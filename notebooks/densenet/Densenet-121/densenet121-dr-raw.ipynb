{
 "cells": [
  {
   "cell_type": "code",
   "execution_count": 1,
   "id": "a6f511ff",
   "metadata": {
    "_cell_guid": "b1076dfc-b9ad-4769-8c92-a6c4dae69d19",
    "_uuid": "8f2839f25d086af736a60e9eeb907d3b93b6e0e5",
    "execution": {
     "iopub.execute_input": "2024-04-27T16:28:16.244203Z",
     "iopub.status.busy": "2024-04-27T16:28:16.243789Z",
     "iopub.status.idle": "2024-04-27T16:28:17.174448Z",
     "shell.execute_reply": "2024-04-27T16:28:17.173290Z"
    },
    "papermill": {
     "duration": 0.940851,
     "end_time": "2024-04-27T16:28:17.177466",
     "exception": false,
     "start_time": "2024-04-27T16:28:16.236615",
     "status": "completed"
    },
    "tags": []
   },
   "outputs": [
    {
     "name": "stdout",
     "output_type": "stream",
     "text": [
      "/kaggle/input/raw-dataset/raw_id.csv\n",
      "/kaggle/input/raw-dataset/Raw/DR/DR (29).jpg\n",
      "/kaggle/input/raw-dataset/Raw/DR/DR (41).jpg\n",
      "/kaggle/input/raw-dataset/Raw/DR/DR (18).jpg\n",
      "/kaggle/input/raw-dataset/Raw/DR/DR (17).jpg\n",
      "/kaggle/input/raw-dataset/Raw/DR/DR (7).jpg\n",
      "/kaggle/input/raw-dataset/Raw/DR/DR (13).jpg\n",
      "/kaggle/input/raw-dataset/Raw/DR/DR (39).jpg\n",
      "/kaggle/input/raw-dataset/Raw/DR/DR (27).jpg\n",
      "/kaggle/input/raw-dataset/Raw/DR/DR (43).jpg\n",
      "/kaggle/input/raw-dataset/Raw/DR/DR (9).jpg\n",
      "/kaggle/input/raw-dataset/Raw/DR/DR (35).jpg\n",
      "/kaggle/input/raw-dataset/Raw/DR/DR (22).jpg\n",
      "/kaggle/input/raw-dataset/Raw/DR/DR (2).jpg\n",
      "/kaggle/input/raw-dataset/Raw/DR/DR (42).jpg\n",
      "/kaggle/input/raw-dataset/Raw/DR/DR (49).jpg\n",
      "/kaggle/input/raw-dataset/Raw/DR/DR (33).jpg\n",
      "/kaggle/input/raw-dataset/Raw/DR/DR (21).jpg\n",
      "/kaggle/input/raw-dataset/Raw/DR/DR (37).jpg\n",
      "/kaggle/input/raw-dataset/Raw/DR/DR (5).jpg\n",
      "/kaggle/input/raw-dataset/Raw/DR/DR (50).jpg\n",
      "/kaggle/input/raw-dataset/Raw/DR/DR (45).jpg\n",
      "/kaggle/input/raw-dataset/Raw/DR/DR (40).jpg\n",
      "/kaggle/input/raw-dataset/Raw/DR/DR (23).jpg\n",
      "/kaggle/input/raw-dataset/Raw/DR/DR (6).jpg\n",
      "/kaggle/input/raw-dataset/Raw/DR/DR (10).jpg\n",
      "/kaggle/input/raw-dataset/Raw/DR/DR (38).jpg\n",
      "/kaggle/input/raw-dataset/Raw/DR/DR (48).jpg\n",
      "/kaggle/input/raw-dataset/Raw/DR/DR (47).jpg\n",
      "/kaggle/input/raw-dataset/Raw/DR/DR (51).jpg\n",
      "/kaggle/input/raw-dataset/Raw/DR/DR (44).jpg\n",
      "/kaggle/input/raw-dataset/Raw/DR/DR (31).jpg\n",
      "/kaggle/input/raw-dataset/Raw/DR/DR (36).jpg\n",
      "/kaggle/input/raw-dataset/Raw/DR/DR (52).jpg\n",
      "/kaggle/input/raw-dataset/Raw/DR/DR (34).jpg\n",
      "/kaggle/input/raw-dataset/Raw/DR/DR (20).jpg\n",
      "/kaggle/input/raw-dataset/Raw/DR/DR (3).jpg\n",
      "/kaggle/input/raw-dataset/Raw/DR/DR (15).jpg\n",
      "/kaggle/input/raw-dataset/Raw/DR/DR (26).jpg\n",
      "/kaggle/input/raw-dataset/Raw/DR/DR (46).jpg\n",
      "/kaggle/input/raw-dataset/Raw/DR/DR (30).jpg\n",
      "/kaggle/input/raw-dataset/Raw/DR/DR (24).jpg\n",
      "/kaggle/input/raw-dataset/Raw/DR/DR (16).jpg\n",
      "/kaggle/input/raw-dataset/Raw/DR/DR (8).jpg\n",
      "/kaggle/input/raw-dataset/Raw/DR/DR (1).jpg\n",
      "/kaggle/input/raw-dataset/Raw/DR/DR (11).jpg\n",
      "/kaggle/input/raw-dataset/Raw/DR/DR (12).jpg\n",
      "/kaggle/input/raw-dataset/Raw/DR/DR (32).jpg\n",
      "/kaggle/input/raw-dataset/Raw/DR/DR (19).jpg\n",
      "/kaggle/input/raw-dataset/Raw/DR/DR (4).jpg\n",
      "/kaggle/input/raw-dataset/Raw/DR/DR (14).jpg\n",
      "/kaggle/input/raw-dataset/Raw/DR/DR (28).jpg\n",
      "/kaggle/input/raw-dataset/Raw/DR/DR (25).jpg\n",
      "/kaggle/input/raw-dataset/Raw/NO DR/NDR (4).jpg\n",
      "/kaggle/input/raw-dataset/Raw/NO DR/NDR (7).jpg\n",
      "/kaggle/input/raw-dataset/Raw/NO DR/NDR (42).jpg\n",
      "/kaggle/input/raw-dataset/Raw/NO DR/NDR (45).jpg\n",
      "/kaggle/input/raw-dataset/Raw/NO DR/NDR (48).jpg\n",
      "/kaggle/input/raw-dataset/Raw/NO DR/NDR (24).jpg\n",
      "/kaggle/input/raw-dataset/Raw/NO DR/NDR (16).jpg\n",
      "/kaggle/input/raw-dataset/Raw/NO DR/NDR (9).jpg\n",
      "/kaggle/input/raw-dataset/Raw/NO DR/NDR (49).jpg\n",
      "/kaggle/input/raw-dataset/Raw/NO DR/NDR (14).jpg\n",
      "/kaggle/input/raw-dataset/Raw/NO DR/NDR (13).jpg\n",
      "/kaggle/input/raw-dataset/Raw/NO DR/NDR (21).jpg\n",
      "/kaggle/input/raw-dataset/Raw/NO DR/NDR (37).jpg\n",
      "/kaggle/input/raw-dataset/Raw/NO DR/NDR (22).jpg\n",
      "/kaggle/input/raw-dataset/Raw/NO DR/NDR (25).jpg\n",
      "/kaggle/input/raw-dataset/Raw/NO DR/NDR (33).jpg\n",
      "/kaggle/input/raw-dataset/Raw/NO DR/NDR (2).jpg\n",
      "/kaggle/input/raw-dataset/Raw/NO DR/NDR (40).jpg\n",
      "/kaggle/input/raw-dataset/Raw/NO DR/NDR (12).jpg\n",
      "/kaggle/input/raw-dataset/Raw/NO DR/NDR (17).jpg\n",
      "/kaggle/input/raw-dataset/Raw/NO DR/NDR (36).jpg\n",
      "/kaggle/input/raw-dataset/Raw/NO DR/NDR (1).jpg\n",
      "/kaggle/input/raw-dataset/Raw/NO DR/NDR (32).jpg\n",
      "/kaggle/input/raw-dataset/Raw/NO DR/NDR (39).jpg\n",
      "/kaggle/input/raw-dataset/Raw/NO DR/NDR (15).jpg\n",
      "/kaggle/input/raw-dataset/Raw/NO DR/NDR (10).jpg\n",
      "/kaggle/input/raw-dataset/Raw/NO DR/NDR (26).jpg\n",
      "/kaggle/input/raw-dataset/Raw/NO DR/NDR (35).jpg\n",
      "/kaggle/input/raw-dataset/Raw/NO DR/NDR (19).jpg\n",
      "/kaggle/input/raw-dataset/Raw/NO DR/NDR (11).jpg\n",
      "/kaggle/input/raw-dataset/Raw/NO DR/NDR (3).jpg\n",
      "/kaggle/input/raw-dataset/Raw/NO DR/NDR (5).jpg\n",
      "/kaggle/input/raw-dataset/Raw/NO DR/NDR (6).jpg\n",
      "/kaggle/input/raw-dataset/Raw/NO DR/NDR (20).jpg\n",
      "/kaggle/input/raw-dataset/Raw/NO DR/NDR (23).jpg\n",
      "/kaggle/input/raw-dataset/Raw/NO DR/NDR (29).jpg\n",
      "/kaggle/input/raw-dataset/Raw/NO DR/NDR (34).jpg\n",
      "/kaggle/input/raw-dataset/Raw/NO DR/NDR (31).jpg\n",
      "/kaggle/input/raw-dataset/Raw/NO DR/NDR (8).jpg\n",
      "/kaggle/input/raw-dataset/Raw/NO DR/NDR (50).jpg\n",
      "/kaggle/input/raw-dataset/Raw/NO DR/NDR (46).jpg\n",
      "/kaggle/input/raw-dataset/Raw/NO DR/NDR (27).jpg\n",
      "/kaggle/input/raw-dataset/Raw/NO DR/NDR (44).jpg\n",
      "/kaggle/input/raw-dataset/Raw/NO DR/NDR (28).jpg\n",
      "/kaggle/input/raw-dataset/Raw/NO DR/NDR (18).jpg\n",
      "/kaggle/input/raw-dataset/Raw/NO DR/NDR (47).jpg\n",
      "/kaggle/input/raw-dataset/Raw/NO DR/NDR (30).jpg\n",
      "/kaggle/input/raw-dataset/Raw/NO DR/NDR (41).jpg\n",
      "/kaggle/input/raw-dataset/Raw/NO DR/NDR (38).jpg\n",
      "/kaggle/input/raw-dataset/Raw/NO DR/NDR (43).jpg\n"
     ]
    }
   ],
   "source": [
    "# This Python 3 environment comes with many helpful analytics libraries installed\n",
    "# It is defined by the kaggle/python Docker image: https://github.com/kaggle/docker-python\n",
    "# For example, here's several helpful packages to load\n",
    "\n",
    "import numpy as np # linear algebra\n",
    "import pandas as pd # data processing, CSV file I/O (e.g. pd.read_csv)\n",
    "\n",
    "# Input data files are available in the read-only \"../input/\" directory\n",
    "# For example, running this (by clicking run or pressing Shift+Enter) will list all files under the input directory\n",
    "\n",
    "import os\n",
    "for dirname, _, filenames in os.walk('/kaggle/input'):\n",
    "    for filename in filenames:\n",
    "        print(os.path.join(dirname, filename))\n",
    "\n",
    "# You can write up to 20GB to the current directory (/kaggle/working/) that gets preserved as output when you create a version using \"Save & Run All\" \n",
    "# You can also write temporary files to /kaggle/temp/, but they won't be saved outside of the current session"
   ]
  },
  {
   "cell_type": "code",
   "execution_count": 2,
   "id": "c1e280c3",
   "metadata": {
    "execution": {
     "iopub.execute_input": "2024-04-27T16:28:17.190307Z",
     "iopub.status.busy": "2024-04-27T16:28:17.189804Z",
     "iopub.status.idle": "2024-04-27T16:28:31.466006Z",
     "shell.execute_reply": "2024-04-27T16:28:31.465012Z"
    },
    "papermill": {
     "duration": 14.285148,
     "end_time": "2024-04-27T16:28:31.468390",
     "exception": false,
     "start_time": "2024-04-27T16:28:17.183242",
     "status": "completed"
    },
    "tags": []
   },
   "outputs": [
    {
     "name": "stderr",
     "output_type": "stream",
     "text": [
      "2024-04-27 16:28:19.295301: E external/local_xla/xla/stream_executor/cuda/cuda_dnn.cc:9261] Unable to register cuDNN factory: Attempting to register factory for plugin cuDNN when one has already been registered\n",
      "2024-04-27 16:28:19.295470: E external/local_xla/xla/stream_executor/cuda/cuda_fft.cc:607] Unable to register cuFFT factory: Attempting to register factory for plugin cuFFT when one has already been registered\n",
      "2024-04-27 16:28:19.453275: E external/local_xla/xla/stream_executor/cuda/cuda_blas.cc:1515] Unable to register cuBLAS factory: Attempting to register factory for plugin cuBLAS when one has already been registered\n"
     ]
    }
   ],
   "source": [
    "import pandas as pd\n",
    "import numpy as np\n",
    "import matplotlib.pyplot as plt\n",
    "from tensorflow.keras.preprocessing.image import ImageDataGenerator\n",
    "from keras.applications import ResNet50\n",
    "from keras.models import Sequential\n",
    "from keras.layers import Dense, Flatten, GlobalAveragePooling2D\n",
    "from keras.callbacks import EarlyStopping, ModelCheckpoint\n",
    "from sklearn.model_selection import train_test_split\n",
    "import shutil"
   ]
  },
  {
   "cell_type": "code",
   "execution_count": 3,
   "id": "100f2bfe",
   "metadata": {
    "execution": {
     "iopub.execute_input": "2024-04-27T16:28:31.481002Z",
     "iopub.status.busy": "2024-04-27T16:28:31.480333Z",
     "iopub.status.idle": "2024-04-27T16:28:31.489740Z",
     "shell.execute_reply": "2024-04-27T16:28:31.488617Z"
    },
    "papermill": {
     "duration": 0.018155,
     "end_time": "2024-04-27T16:28:31.492058",
     "exception": false,
     "start_time": "2024-04-27T16:28:31.473903",
     "status": "completed"
    },
    "tags": []
   },
   "outputs": [],
   "source": [
    "from tensorflow.keras.applications.densenet import DenseNet121,DenseNet169"
   ]
  },
  {
   "cell_type": "code",
   "execution_count": 4,
   "id": "0e2e08af",
   "metadata": {
    "execution": {
     "iopub.execute_input": "2024-04-27T16:28:31.504280Z",
     "iopub.status.busy": "2024-04-27T16:28:31.503918Z",
     "iopub.status.idle": "2024-04-27T16:28:31.743859Z",
     "shell.execute_reply": "2024-04-27T16:28:31.742650Z"
    },
    "papermill": {
     "duration": 0.249012,
     "end_time": "2024-04-27T16:28:31.746456",
     "exception": false,
     "start_time": "2024-04-27T16:28:31.497444",
     "status": "completed"
    },
    "tags": []
   },
   "outputs": [
    {
     "data": {
      "text/html": [
       "<div>\n",
       "<style scoped>\n",
       "    .dataframe tbody tr th:only-of-type {\n",
       "        vertical-align: middle;\n",
       "    }\n",
       "\n",
       "    .dataframe tbody tr th {\n",
       "        vertical-align: top;\n",
       "    }\n",
       "\n",
       "    .dataframe thead th {\n",
       "        text-align: right;\n",
       "    }\n",
       "</style>\n",
       "<table border=\"1\" class=\"dataframe\">\n",
       "  <thead>\n",
       "    <tr style=\"text-align: right;\">\n",
       "      <th></th>\n",
       "      <th>id_code</th>\n",
       "      <th>diagnosis</th>\n",
       "      <th>binary_type</th>\n",
       "      <th>type</th>\n",
       "    </tr>\n",
       "  </thead>\n",
       "  <tbody>\n",
       "    <tr>\n",
       "      <th>0</th>\n",
       "      <td>DR (5)</td>\n",
       "      <td>1</td>\n",
       "      <td>DR</td>\n",
       "      <td>DR</td>\n",
       "    </tr>\n",
       "    <tr>\n",
       "      <th>1</th>\n",
       "      <td>DR (1)</td>\n",
       "      <td>1</td>\n",
       "      <td>DR</td>\n",
       "      <td>DR</td>\n",
       "    </tr>\n",
       "    <tr>\n",
       "      <th>2</th>\n",
       "      <td>DR (2)</td>\n",
       "      <td>1</td>\n",
       "      <td>DR</td>\n",
       "      <td>DR</td>\n",
       "    </tr>\n",
       "    <tr>\n",
       "      <th>3</th>\n",
       "      <td>DR (3)</td>\n",
       "      <td>1</td>\n",
       "      <td>DR</td>\n",
       "      <td>DR</td>\n",
       "    </tr>\n",
       "    <tr>\n",
       "      <th>4</th>\n",
       "      <td>DR (4)</td>\n",
       "      <td>1</td>\n",
       "      <td>DR</td>\n",
       "      <td>DR</td>\n",
       "    </tr>\n",
       "  </tbody>\n",
       "</table>\n",
       "</div>"
      ],
      "text/plain": [
       "  id_code  diagnosis binary_type type\n",
       "0  DR (5)          1          DR   DR\n",
       "1  DR (1)          1          DR   DR\n",
       "2  DR (2)          1          DR   DR\n",
       "3  DR (3)          1          DR   DR\n",
       "4  DR (4)          1          DR   DR"
      ]
     },
     "execution_count": 4,
     "metadata": {},
     "output_type": "execute_result"
    }
   ],
   "source": [
    "df = pd.read_csv(r'/kaggle/input/raw-dataset/raw_id.csv')\n",
    "\n",
    "diagnosis_dict_binary = {\n",
    "    0: 'NO DR',\n",
    "    1: 'DR'\n",
    "}\n",
    "\n",
    "diagnosis_dict = {\n",
    "    0: 'NO DR',\n",
    "    1: 'DR'\n",
    "}\n",
    "\n",
    "\n",
    "df['binary_type'] =  df['diagnosis'].map(diagnosis_dict_binary.get)\n",
    "df['type'] = df['diagnosis'].map(diagnosis_dict.get)\n",
    "df.head()"
   ]
  },
  {
   "cell_type": "code",
   "execution_count": 5,
   "id": "3339cbd3",
   "metadata": {
    "execution": {
     "iopub.execute_input": "2024-04-27T16:28:31.759390Z",
     "iopub.status.busy": "2024-04-27T16:28:31.759027Z",
     "iopub.status.idle": "2024-04-27T16:28:31.784985Z",
     "shell.execute_reply": "2024-04-27T16:28:31.783734Z"
    },
    "papermill": {
     "duration": 0.035168,
     "end_time": "2024-04-27T16:28:31.787367",
     "exception": false,
     "start_time": "2024-04-27T16:28:31.752199",
     "status": "completed"
    },
    "tags": []
   },
   "outputs": [
    {
     "name": "stdout",
     "output_type": "stream",
     "text": [
      "type\n",
      "DR       36\n",
      "NO DR    34\n",
      "Name: count, dtype: int64 \n",
      "\n",
      "type\n",
      "NO DR    8\n",
      "DR       8\n",
      "Name: count, dtype: int64 \n",
      "\n",
      "type\n",
      "NO DR    8\n",
      "DR       8\n",
      "Name: count, dtype: int64 \n",
      "\n"
     ]
    }
   ],
   "source": [
    "# Split into stratified train, val, and test sets\n",
    "train_intermediate, val = train_test_split(df, test_size = 0.15, stratify = df['type'])\n",
    "train, test = train_test_split(train_intermediate, test_size = 0.15 / (1 - 0.15), stratify = train_intermediate['type'])\n",
    "\n",
    "print(train['type'].value_counts(), '\\n')\n",
    "print(test['type'].value_counts(), '\\n')\n",
    "print(val['type'].value_counts(), '\\n')"
   ]
  },
  {
   "cell_type": "code",
   "execution_count": 6,
   "id": "7213c381",
   "metadata": {
    "execution": {
     "iopub.execute_input": "2024-04-27T16:28:31.800447Z",
     "iopub.status.busy": "2024-04-27T16:28:31.800051Z",
     "iopub.status.idle": "2024-04-27T16:28:31.808555Z",
     "shell.execute_reply": "2024-04-27T16:28:31.807516Z"
    },
    "papermill": {
     "duration": 0.018127,
     "end_time": "2024-04-27T16:28:31.811185",
     "exception": false,
     "start_time": "2024-04-27T16:28:31.793058",
     "status": "completed"
    },
    "tags": []
   },
   "outputs": [],
   "source": [
    "# Create working directories for train/val/test\n",
    "base_dir = ''\n",
    "\n",
    "train_dir = os.path.join(base_dir, 'train')\n",
    "val_dir = os.path.join(base_dir, 'val')\n",
    "test_dir = os.path.join(base_dir, 'test')\n",
    "\n",
    "if os.path.exists(base_dir):\n",
    "    shutil.rmtree(base_dir)\n",
    "\n",
    "if os.path.exists(train_dir):\n",
    "    shutil.rmtree(train_dir)\n",
    "os.makedirs(train_dir)\n",
    "\n",
    "if os.path.exists(val_dir):\n",
    "    shutil.rmtree(val_dir)\n",
    "os.makedirs(val_dir)\n",
    "\n",
    "if os.path.exists(test_dir):\n",
    "    shutil.rmtree(test_dir)\n",
    "os.makedirs(test_dir)"
   ]
  },
  {
   "cell_type": "code",
   "execution_count": 7,
   "id": "48198172",
   "metadata": {
    "execution": {
     "iopub.execute_input": "2024-04-27T16:28:31.824193Z",
     "iopub.status.busy": "2024-04-27T16:28:31.823813Z",
     "iopub.status.idle": "2024-04-27T16:28:36.292517Z",
     "shell.execute_reply": "2024-04-27T16:28:36.291464Z"
    },
    "papermill": {
     "duration": 4.478093,
     "end_time": "2024-04-27T16:28:36.295124",
     "exception": false,
     "start_time": "2024-04-27T16:28:31.817031",
     "status": "completed"
    },
    "tags": []
   },
   "outputs": [],
   "source": [
    "# Copy images to respective working directory\n",
    "src_dir = r'/kaggle/input/raw-dataset/Raw'\n",
    "for index, row in train.iterrows():\n",
    "    diagnosis = row['type']\n",
    "    binary_diagnosis = row['binary_type']\n",
    "    id_code = row['id_code'] + \".jpg\"\n",
    "    srcfile = os.path.join(src_dir, diagnosis, id_code)\n",
    "    dstfile = os.path.join(train_dir, binary_diagnosis)\n",
    "    os.makedirs(dstfile, exist_ok = True)\n",
    "    shutil.copy(srcfile, dstfile)\n",
    "\n",
    "for index, row in val.iterrows():\n",
    "    diagnosis = row['type']\n",
    "    binary_diagnosis = row['binary_type']\n",
    "    id_code = row['id_code'] + \".jpg\"\n",
    "    srcfile = os.path.join(src_dir, diagnosis, id_code)\n",
    "    dstfile = os.path.join(val_dir, binary_diagnosis)\n",
    "    os.makedirs(dstfile, exist_ok = True)\n",
    "    shutil.copy(srcfile, dstfile)\n",
    " \n",
    "for index, row in test.iterrows():\n",
    "    diagnosis = row['type']\n",
    "    binary_diagnosis = row['binary_type']\n",
    "    id_code = row['id_code'] + \".jpg\"\n",
    "    srcfile = os.path.join(src_dir, diagnosis, id_code)\n",
    "    dstfile = os.path.join(test_dir, binary_diagnosis)\n",
    "    os.makedirs(dstfile, exist_ok = True)\n",
    "    shutil.copy(srcfile, dstfile)"
   ]
  },
  {
   "cell_type": "code",
   "execution_count": 8,
   "id": "cb2723c6",
   "metadata": {
    "execution": {
     "iopub.execute_input": "2024-04-27T16:28:36.308024Z",
     "iopub.status.busy": "2024-04-27T16:28:36.307633Z",
     "iopub.status.idle": "2024-04-27T16:28:36.333655Z",
     "shell.execute_reply": "2024-04-27T16:28:36.332593Z"
    },
    "papermill": {
     "duration": 0.035231,
     "end_time": "2024-04-27T16:28:36.336028",
     "exception": false,
     "start_time": "2024-04-27T16:28:36.300797",
     "status": "completed"
    },
    "tags": []
   },
   "outputs": [
    {
     "name": "stdout",
     "output_type": "stream",
     "text": [
      "Found 70 images belonging to 2 classes.\n",
      "Found 16 images belonging to 2 classes.\n",
      "Found 16 images belonging to 2 classes.\n"
     ]
    }
   ],
   "source": [
    "# Setting up ImageDataGenerator for train/val/test \n",
    "\n",
    "train_path = 'train'\n",
    "val_path = 'val'\n",
    "test_path = 'test'\n",
    "\n",
    "train_batches = ImageDataGenerator(rescale = 1./255).flow_from_directory(train_path, batch_size = 32, target_size=(224,224), shuffle = True)\n",
    "val_batches = ImageDataGenerator(rescale = 1./255).flow_from_directory(val_path, batch_size = 32, target_size=(224,224), shuffle = True)\n",
    "test_batches = ImageDataGenerator(rescale = 1./255).flow_from_directory(test_path, batch_size = 32, target_size=(224,224), shuffle = False)"
   ]
  },
  {
   "cell_type": "code",
   "execution_count": 9,
   "id": "87d77c81",
   "metadata": {
    "execution": {
     "iopub.execute_input": "2024-04-27T16:28:36.349398Z",
     "iopub.status.busy": "2024-04-27T16:28:36.349009Z",
     "iopub.status.idle": "2024-04-27T16:28:41.127247Z",
     "shell.execute_reply": "2024-04-27T16:28:41.126250Z"
    },
    "papermill": {
     "duration": 4.787819,
     "end_time": "2024-04-27T16:28:41.129821",
     "exception": false,
     "start_time": "2024-04-27T16:28:36.342002",
     "status": "completed"
    },
    "tags": []
   },
   "outputs": [
    {
     "name": "stdout",
     "output_type": "stream",
     "text": [
      "Downloading data from https://storage.googleapis.com/tensorflow/keras-applications/densenet/densenet121_weights_tf_dim_ordering_tf_kernels_notop.h5\n",
      "\u001b[1m29084464/29084464\u001b[0m \u001b[32m━━━━━━━━━━━━━━━━━━━━\u001b[0m\u001b[37m\u001b[0m \u001b[1m2s\u001b[0m 0us/step\n"
     ]
    }
   ],
   "source": [
    "# Get the DenseNet base model\n",
    "base_model = DenseNet121(include_top=False, pooling='avg')\n",
    "\n",
    "# Make the base model untrainable\n",
    "base_model.trainable = False\n",
    "\n",
    "# Define the model\n",
    "model = Sequential([\n",
    "    base_model,\n",
    "    Dense(2, activation='softmax')\n",
    "])\n",
    "\n",
    "# Compile the model\n",
    "model.compile(optimizer='adam', loss='categorical_crossentropy', metrics=['accuracy'])"
   ]
  },
  {
   "cell_type": "code",
   "execution_count": 10,
   "id": "3c7d272c",
   "metadata": {
    "execution": {
     "iopub.execute_input": "2024-04-27T16:28:41.147909Z",
     "iopub.status.busy": "2024-04-27T16:28:41.147516Z",
     "iopub.status.idle": "2024-04-27T16:28:41.152562Z",
     "shell.execute_reply": "2024-04-27T16:28:41.151511Z"
    },
    "papermill": {
     "duration": 0.016969,
     "end_time": "2024-04-27T16:28:41.154938",
     "exception": false,
     "start_time": "2024-04-27T16:28:41.137969",
     "status": "completed"
    },
    "tags": []
   },
   "outputs": [],
   "source": [
    "callbacks = [EarlyStopping(patience=5, restore_best_weights=True),\n",
    "             ModelCheckpoint(filepath='model.keras', save_best_only=True)]"
   ]
  },
  {
   "cell_type": "code",
   "execution_count": 11,
   "id": "c69f18bf",
   "metadata": {
    "execution": {
     "iopub.execute_input": "2024-04-27T16:28:41.173965Z",
     "iopub.status.busy": "2024-04-27T16:28:41.173547Z",
     "iopub.status.idle": "2024-04-27T16:36:25.260862Z",
     "shell.execute_reply": "2024-04-27T16:36:25.259761Z"
    },
    "papermill": {
     "duration": 464.100682,
     "end_time": "2024-04-27T16:36:25.263711",
     "exception": false,
     "start_time": "2024-04-27T16:28:41.163029",
     "status": "completed"
    },
    "tags": []
   },
   "outputs": [
    {
     "name": "stdout",
     "output_type": "stream",
     "text": [
      "Epoch 1/30\n"
     ]
    },
    {
     "name": "stderr",
     "output_type": "stream",
     "text": [
      "/opt/conda/lib/python3.10/site-packages/keras/src/trainers/data_adapters/py_dataset_adapter.py:120: UserWarning: Your `PyDataset` class should call `super().__init__(**kwargs)` in its constructor. `**kwargs` can include `workers`, `use_multiprocessing`, `max_queue_size`. Do not pass these arguments to `fit()`, as they will be ignored.\n",
      "  self._warn_if_super_not_called()\n"
     ]
    },
    {
     "name": "stdout",
     "output_type": "stream",
     "text": [
      "\u001b[1m  3/100\u001b[0m \u001b[37m━━━━━━━━━━━━━━━━━━━━\u001b[0m \u001b[1m3:59\u001b[0m 2s/step - accuracy: 0.4134 - loss: 1.5813"
     ]
    },
    {
     "name": "stderr",
     "output_type": "stream",
     "text": [
      "/opt/conda/lib/python3.10/contextlib.py:153: UserWarning: Your input ran out of data; interrupting training. Make sure that your dataset or generator can generate at least `steps_per_epoch * epochs` batches. You may need to use the `.repeat()` function when building your dataset.\n",
      "  self.gen.throw(typ, value, traceback)\n"
     ]
    },
    {
     "name": "stdout",
     "output_type": "stream",
     "text": [
      "\u001b[1m100/100\u001b[0m \u001b[32m━━━━━━━━━━━━━━━━━━━━\u001b[0m\u001b[37m\u001b[0m \u001b[1m35s\u001b[0m 136ms/step - accuracy: 0.4835 - loss: 1.1408 - val_accuracy: 0.5625 - val_loss: 0.7191\n",
      "Epoch 2/30\n",
      "\u001b[1m100/100\u001b[0m \u001b[32m━━━━━━━━━━━━━━━━━━━━\u001b[0m\u001b[37m\u001b[0m \u001b[1m14s\u001b[0m 56ms/step - accuracy: 0.4271 - loss: 0.8540 - val_accuracy: 0.5625 - val_loss: 0.7273\n",
      "Epoch 3/30\n",
      "\u001b[1m100/100\u001b[0m \u001b[32m━━━━━━━━━━━━━━━━━━━━\u001b[0m\u001b[37m\u001b[0m \u001b[1m14s\u001b[0m 74ms/step - accuracy: 0.5110 - loss: 0.8272 - val_accuracy: 0.5625 - val_loss: 0.6022\n",
      "Epoch 4/30\n",
      "\u001b[1m100/100\u001b[0m \u001b[32m━━━━━━━━━━━━━━━━━━━━\u001b[0m\u001b[37m\u001b[0m \u001b[1m14s\u001b[0m 77ms/step - accuracy: 0.5831 - loss: 0.6682 - val_accuracy: 0.8750 - val_loss: 0.5110\n",
      "Epoch 5/30\n",
      "\u001b[1m100/100\u001b[0m \u001b[32m━━━━━━━━━━━━━━━━━━━━\u001b[0m\u001b[37m\u001b[0m \u001b[1m15s\u001b[0m 54ms/step - accuracy: 0.7131 - loss: 0.5882 - val_accuracy: 0.6875 - val_loss: 0.5032\n",
      "Epoch 6/30\n",
      "\u001b[1m100/100\u001b[0m \u001b[32m━━━━━━━━━━━━━━━━━━━━\u001b[0m\u001b[37m\u001b[0m \u001b[1m14s\u001b[0m 75ms/step - accuracy: 0.6732 - loss: 0.5659 - val_accuracy: 0.6875 - val_loss: 0.4786\n",
      "Epoch 7/30\n",
      "\u001b[1m100/100\u001b[0m \u001b[32m━━━━━━━━━━━━━━━━━━━━\u001b[0m\u001b[37m\u001b[0m \u001b[1m14s\u001b[0m 55ms/step - accuracy: 0.6851 - loss: 0.5259 - val_accuracy: 0.8125 - val_loss: 0.4125\n",
      "Epoch 8/30\n",
      "\u001b[1m100/100\u001b[0m \u001b[32m━━━━━━━━━━━━━━━━━━━━\u001b[0m\u001b[37m\u001b[0m \u001b[1m14s\u001b[0m 55ms/step - accuracy: 0.8006 - loss: 0.4718 - val_accuracy: 0.8750 - val_loss: 0.3691\n",
      "Epoch 9/30\n",
      "\u001b[1m100/100\u001b[0m \u001b[32m━━━━━━━━━━━━━━━━━━━━\u001b[0m\u001b[37m\u001b[0m \u001b[1m14s\u001b[0m 56ms/step - accuracy: 0.8420 - loss: 0.4338 - val_accuracy: 0.8750 - val_loss: 0.3427\n",
      "Epoch 10/30\n",
      "\u001b[1m100/100\u001b[0m \u001b[32m━━━━━━━━━━━━━━━━━━━━\u001b[0m\u001b[37m\u001b[0m \u001b[1m14s\u001b[0m 54ms/step - accuracy: 0.8588 - loss: 0.4303 - val_accuracy: 0.8750 - val_loss: 0.3247\n",
      "Epoch 11/30\n",
      "\u001b[1m100/100\u001b[0m \u001b[32m━━━━━━━━━━━━━━━━━━━━\u001b[0m\u001b[37m\u001b[0m \u001b[1m14s\u001b[0m 57ms/step - accuracy: 0.8285 - loss: 0.4168 - val_accuracy: 0.8750 - val_loss: 0.3169\n",
      "Epoch 12/30\n",
      "\u001b[1m100/100\u001b[0m \u001b[32m━━━━━━━━━━━━━━━━━━━━\u001b[0m\u001b[37m\u001b[0m \u001b[1m14s\u001b[0m 54ms/step - accuracy: 0.8280 - loss: 0.4075 - val_accuracy: 0.8750 - val_loss: 0.3123\n",
      "Epoch 13/30\n",
      "\u001b[1m100/100\u001b[0m \u001b[32m━━━━━━━━━━━━━━━━━━━━\u001b[0m\u001b[37m\u001b[0m \u001b[1m20s\u001b[0m 79ms/step - accuracy: 0.8548 - loss: 0.4039 - val_accuracy: 0.8750 - val_loss: 0.3480\n",
      "Epoch 14/30\n",
      "\u001b[1m100/100\u001b[0m \u001b[32m━━━━━━━━━━━━━━━━━━━━\u001b[0m\u001b[37m\u001b[0m \u001b[1m15s\u001b[0m 56ms/step - accuracy: 0.8581 - loss: 0.3921 - val_accuracy: 0.8750 - val_loss: 0.3752\n",
      "Epoch 15/30\n",
      "\u001b[1m100/100\u001b[0m \u001b[32m━━━━━━━━━━━━━━━━━━━━\u001b[0m\u001b[37m\u001b[0m \u001b[1m14s\u001b[0m 75ms/step - accuracy: 0.8447 - loss: 0.4040 - val_accuracy: 0.8750 - val_loss: 0.3951\n",
      "Epoch 16/30\n",
      "\u001b[1m100/100\u001b[0m \u001b[32m━━━━━━━━━━━━━━━━━━━━\u001b[0m\u001b[37m\u001b[0m \u001b[1m14s\u001b[0m 53ms/step - accuracy: 0.8434 - loss: 0.3910 - val_accuracy: 0.8750 - val_loss: 0.3531\n",
      "Epoch 17/30\n",
      "\u001b[1m100/100\u001b[0m \u001b[32m━━━━━━━━━━━━━━━━━━━━\u001b[0m\u001b[37m\u001b[0m \u001b[1m14s\u001b[0m 55ms/step - accuracy: 0.8717 - loss: 0.3618 - val_accuracy: 0.8750 - val_loss: 0.3030\n",
      "Epoch 18/30\n",
      "\u001b[1m100/100\u001b[0m \u001b[32m━━━━━━━━━━━━━━━━━━━━\u001b[0m\u001b[37m\u001b[0m \u001b[1m16s\u001b[0m 100ms/step - accuracy: 0.8735 - loss: 0.3447 - val_accuracy: 0.8750 - val_loss: 0.2844\n",
      "Epoch 19/30\n",
      "\u001b[1m100/100\u001b[0m \u001b[32m━━━━━━━━━━━━━━━━━━━━\u001b[0m\u001b[37m\u001b[0m \u001b[1m14s\u001b[0m 55ms/step - accuracy: 0.8289 - loss: 0.3536 - val_accuracy: 0.9375 - val_loss: 0.2801\n",
      "Epoch 20/30\n",
      "\u001b[1m100/100\u001b[0m \u001b[32m━━━━━━━━━━━━━━━━━━━━\u001b[0m\u001b[37m\u001b[0m \u001b[1m15s\u001b[0m 56ms/step - accuracy: 0.8291 - loss: 0.3482 - val_accuracy: 0.8750 - val_loss: 0.2766\n",
      "Epoch 21/30\n",
      "\u001b[1m100/100\u001b[0m \u001b[32m━━━━━━━━━━━━━━━━━━━━\u001b[0m\u001b[37m\u001b[0m \u001b[1m14s\u001b[0m 56ms/step - accuracy: 0.8860 - loss: 0.3258 - val_accuracy: 0.8750 - val_loss: 0.2838\n",
      "Epoch 22/30\n",
      "\u001b[1m100/100\u001b[0m \u001b[32m━━━━━━━━━━━━━━━━━━━━\u001b[0m\u001b[37m\u001b[0m \u001b[1m14s\u001b[0m 55ms/step - accuracy: 0.8998 - loss: 0.3184 - val_accuracy: 0.8750 - val_loss: 0.2975\n",
      "Epoch 23/30\n",
      "\u001b[1m100/100\u001b[0m \u001b[32m━━━━━━━━━━━━━━━━━━━━\u001b[0m\u001b[37m\u001b[0m \u001b[1m14s\u001b[0m 55ms/step - accuracy: 0.8869 - loss: 0.3064 - val_accuracy: 0.8750 - val_loss: 0.2837\n",
      "Epoch 24/30\n",
      "\u001b[1m100/100\u001b[0m \u001b[32m━━━━━━━━━━━━━━━━━━━━\u001b[0m\u001b[37m\u001b[0m \u001b[1m15s\u001b[0m 57ms/step - accuracy: 0.8990 - loss: 0.3033 - val_accuracy: 0.8750 - val_loss: 0.2708\n",
      "Epoch 25/30\n",
      "\u001b[1m100/100\u001b[0m \u001b[32m━━━━━━━━━━━━━━━━━━━━\u001b[0m\u001b[37m\u001b[0m \u001b[1m15s\u001b[0m 54ms/step - accuracy: 0.8997 - loss: 0.2988 - val_accuracy: 0.8750 - val_loss: 0.2677\n",
      "Epoch 26/30\n",
      "\u001b[1m100/100\u001b[0m \u001b[32m━━━━━━━━━━━━━━━━━━━━\u001b[0m\u001b[37m\u001b[0m \u001b[1m14s\u001b[0m 58ms/step - accuracy: 0.9003 - loss: 0.2902 - val_accuracy: 0.8750 - val_loss: 0.2750\n",
      "Epoch 27/30\n",
      "\u001b[1m100/100\u001b[0m \u001b[32m━━━━━━━━━━━━━━━━━━━━\u001b[0m\u001b[37m\u001b[0m \u001b[1m14s\u001b[0m 75ms/step - accuracy: 0.9155 - loss: 0.2836 - val_accuracy: 0.8750 - val_loss: 0.2906\n",
      "Epoch 28/30\n",
      "\u001b[1m100/100\u001b[0m \u001b[32m━━━━━━━━━━━━━━━━━━━━\u001b[0m\u001b[37m\u001b[0m \u001b[1m14s\u001b[0m 55ms/step - accuracy: 0.9138 - loss: 0.2835 - val_accuracy: 0.8750 - val_loss: 0.2872\n",
      "Epoch 29/30\n",
      "\u001b[1m100/100\u001b[0m \u001b[32m━━━━━━━━━━━━━━━━━━━━\u001b[0m\u001b[37m\u001b[0m \u001b[1m15s\u001b[0m 55ms/step - accuracy: 0.9141 - loss: 0.2773 - val_accuracy: 0.8750 - val_loss: 0.2754\n",
      "Epoch 30/30\n",
      "\u001b[1m100/100\u001b[0m \u001b[32m━━━━━━━━━━━━━━━━━━━━\u001b[0m\u001b[37m\u001b[0m \u001b[1m14s\u001b[0m 56ms/step - accuracy: 0.9006 - loss: 0.2705 - val_accuracy: 0.8750 - val_loss: 0.2553\n"
     ]
    }
   ],
   "source": [
    "history = model.fit(\n",
    "    train_batches,\n",
    "    steps_per_epoch = 100,\n",
    "    validation_data = val_batches, \n",
    "    validation_steps = 100,\n",
    "    epochs = 30)"
   ]
  },
  {
   "cell_type": "code",
   "execution_count": 12,
   "id": "05992f72",
   "metadata": {
    "execution": {
     "iopub.execute_input": "2024-04-27T16:36:25.302887Z",
     "iopub.status.busy": "2024-04-27T16:36:25.301949Z",
     "iopub.status.idle": "2024-04-27T16:36:29.675118Z",
     "shell.execute_reply": "2024-04-27T16:36:29.673653Z"
    },
    "papermill": {
     "duration": 4.3944,
     "end_time": "2024-04-27T16:36:29.677381",
     "exception": false,
     "start_time": "2024-04-27T16:36:25.282981",
     "status": "completed"
    },
    "tags": []
   },
   "outputs": [
    {
     "name": "stdout",
     "output_type": "stream",
     "text": [
      "\u001b[1m1/1\u001b[0m \u001b[32m━━━━━━━━━━━━━━━━━━━━\u001b[0m\u001b[37m\u001b[0m \u001b[1m3s\u001b[0m 3s/step - accuracy: 0.8750 - loss: 0.2553\n",
      "Loss: 0.25525426864624023\n",
      "Accuracy: 0.875\n"
     ]
    }
   ],
   "source": [
    "loss, accuracy = model.evaluate(val_batches)\n",
    "print(f'Loss: {loss}')\n",
    "print(f'Accuracy: {accuracy}')"
   ]
  },
  {
   "cell_type": "code",
   "execution_count": 13,
   "id": "88c9aac0",
   "metadata": {
    "execution": {
     "iopub.execute_input": "2024-04-27T16:36:29.715832Z",
     "iopub.status.busy": "2024-04-27T16:36:29.715336Z",
     "iopub.status.idle": "2024-04-27T16:36:30.322735Z",
     "shell.execute_reply": "2024-04-27T16:36:30.321529Z"
    },
    "papermill": {
     "duration": 0.630157,
     "end_time": "2024-04-27T16:36:30.325764",
     "exception": false,
     "start_time": "2024-04-27T16:36:29.695607",
     "status": "completed"
    },
    "tags": []
   },
   "outputs": [
    {
     "data": {
      "image/png": "[encoded data removed]",
      "text/plain": [
       "<Figure size 1200x600 with 2 Axes>"
      ]
     },
     "metadata": {},
     "output_type": "display_data"
    }
   ],
   "source": [
    "# Plot training & validation accuracy values\n",
    "plt.figure(figsize=(12, 6))\n",
    "plt.subplot(1, 2, 1)\n",
    "plt.plot(history.history['accuracy'])\n",
    "plt.plot(history.history['val_accuracy'])\n",
    "plt.title('Model accuracy')\n",
    "plt.ylabel('Accuracy')\n",
    "plt.xlabel('Epoch')\n",
    "plt.legend(['Train', 'Validation'], loc='upper left')\n",
    "\n",
    "# Plot training & validation loss values\n",
    "plt.subplot(1, 2, 2)\n",
    "plt.plot(history.history['loss'])\n",
    "plt.plot(history.history['val_loss'])\n",
    "plt.title('Model loss')\n",
    "plt.ylabel('Loss')\n",
    "plt.xlabel('Epoch')\n",
    "plt.legend(['Train', 'Validation'], loc='upper left')\n",
    "plt.tight_layout()\n",
    "plt.show()"
   ]
  },
  {
   "cell_type": "code",
   "execution_count": 14,
   "id": "f7f1bc82",
   "metadata": {
    "execution": {
     "iopub.execute_input": "2024-04-27T16:36:30.366255Z",
     "iopub.status.busy": "2024-04-27T16:36:30.365315Z",
     "iopub.status.idle": "2024-04-27T16:36:30.403292Z",
     "shell.execute_reply": "2024-04-27T16:36:30.402066Z"
    },
    "papermill": {
     "duration": 0.060369,
     "end_time": "2024-04-27T16:36:30.405623",
     "exception": false,
     "start_time": "2024-04-27T16:36:30.345254",
     "status": "completed"
    },
    "tags": []
   },
   "outputs": [
    {
     "data": {
      "text/html": [
       "<pre style=\"white-space:pre;overflow-x:auto;line-height:normal;font-family:Menlo,'DejaVu Sans Mono',consolas,'Courier New',monospace\"><span style=\"font-weight: bold\">Model: \"sequential\"</span>\n",
       "</pre>\n"
      ],
      "text/plain": [
       "\u001b[1mModel: \"sequential\"\u001b[0m\n"
      ]
     },
     "metadata": {},
     "output_type": "display_data"
    },
    {
     "data": {
      "text/html": [
       "<pre style=\"white-space:pre;overflow-x:auto;line-height:normal;font-family:Menlo,'DejaVu Sans Mono',consolas,'Courier New',monospace\">┏━━━━━━━━━━━━━━━━━━━━━━━━━━━━━━━━━┳━━━━━━━━━━━━━━━━━━━━━━━━┳━━━━━━━━━━━━━━━┓\n",
       "┃<span style=\"font-weight: bold\"> Layer (type)                    </span>┃<span style=\"font-weight: bold\"> Output Shape           </span>┃<span style=\"font-weight: bold\">       Param # </span>┃\n",
       "┡━━━━━━━━━━━━━━━━━━━━━━━━━━━━━━━━━╇━━━━━━━━━━━━━━━━━━━━━━━━╇━━━━━━━━━━━━━━━┩\n",
       "│ densenet121 (<span style=\"color: #0087ff; text-decoration-color: #0087ff\">Functional</span>)        │ (<span style=\"color: #00d7ff; text-decoration-color: #00d7ff\">None</span>, <span style=\"color: #00af00; text-decoration-color: #00af00\">1024</span>)           │     <span style=\"color: #00af00; text-decoration-color: #00af00\">7,037,504</span> │\n",
       "├─────────────────────────────────┼────────────────────────┼───────────────┤\n",
       "│ dense (<span style=\"color: #0087ff; text-decoration-color: #0087ff\">Dense</span>)                   │ (<span style=\"color: #00d7ff; text-decoration-color: #00d7ff\">None</span>, <span style=\"color: #00af00; text-decoration-color: #00af00\">2</span>)              │         <span style=\"color: #00af00; text-decoration-color: #00af00\">2,050</span> │\n",
       "└─────────────────────────────────┴────────────────────────┴───────────────┘\n",
       "</pre>\n"
      ],
      "text/plain": [
       "┏━━━━━━━━━━━━━━━━━━━━━━━━━━━━━━━━━┳━━━━━━━━━━━━━━━━━━━━━━━━┳━━━━━━━━━━━━━━━┓\n",
       "┃\u001b[1m \u001b[0m\u001b[1mLayer (type)                   \u001b[0m\u001b[1m \u001b[0m┃\u001b[1m \u001b[0m\u001b[1mOutput Shape          \u001b[0m\u001b[1m \u001b[0m┃\u001b[1m \u001b[0m\u001b[1m      Param #\u001b[0m\u001b[1m \u001b[0m┃\n",
       "┡━━━━━━━━━━━━━━━━━━━━━━━━━━━━━━━━━╇━━━━━━━━━━━━━━━━━━━━━━━━╇━━━━━━━━━━━━━━━┩\n",
       "│ densenet121 (\u001b[38;5;33mFunctional\u001b[0m)        │ (\u001b[38;5;45mNone\u001b[0m, \u001b[38;5;34m1024\u001b[0m)           │     \u001b[38;5;34m7,037,504\u001b[0m │\n",
       "├─────────────────────────────────┼────────────────────────┼───────────────┤\n",
       "│ dense (\u001b[38;5;33mDense\u001b[0m)                   │ (\u001b[38;5;45mNone\u001b[0m, \u001b[38;5;34m2\u001b[0m)              │         \u001b[38;5;34m2,050\u001b[0m │\n",
       "└─────────────────────────────────┴────────────────────────┴───────────────┘\n"
      ]
     },
     "metadata": {},
     "output_type": "display_data"
    },
    {
     "data": {
      "text/html": [
       "<pre style=\"white-space:pre;overflow-x:auto;line-height:normal;font-family:Menlo,'DejaVu Sans Mono',consolas,'Courier New',monospace\"><span style=\"font-weight: bold\"> Total params: </span><span style=\"color: #00af00; text-decoration-color: #00af00\">7,043,656</span> (26.87 MB)\n",
       "</pre>\n"
      ],
      "text/plain": [
       "\u001b[1m Total params: \u001b[0m\u001b[38;5;34m7,043,656\u001b[0m (26.87 MB)\n"
      ]
     },
     "metadata": {},
     "output_type": "display_data"
    },
    {
     "data": {
      "text/html": [
       "<pre style=\"white-space:pre;overflow-x:auto;line-height:normal;font-family:Menlo,'DejaVu Sans Mono',consolas,'Courier New',monospace\"><span style=\"font-weight: bold\"> Trainable params: </span><span style=\"color: #00af00; text-decoration-color: #00af00\">2,050</span> (8.01 KB)\n",
       "</pre>\n"
      ],
      "text/plain": [
       "\u001b[1m Trainable params: \u001b[0m\u001b[38;5;34m2,050\u001b[0m (8.01 KB)\n"
      ]
     },
     "metadata": {},
     "output_type": "display_data"
    },
    {
     "data": {
      "text/html": [
       "<pre style=\"white-space:pre;overflow-x:auto;line-height:normal;font-family:Menlo,'DejaVu Sans Mono',consolas,'Courier New',monospace\"><span style=\"font-weight: bold\"> Non-trainable params: </span><span style=\"color: #00af00; text-decoration-color: #00af00\">7,037,504</span> (26.85 MB)\n",
       "</pre>\n"
      ],
      "text/plain": [
       "\u001b[1m Non-trainable params: \u001b[0m\u001b[38;5;34m7,037,504\u001b[0m (26.85 MB)\n"
      ]
     },
     "metadata": {},
     "output_type": "display_data"
    },
    {
     "data": {
      "text/html": [
       "<pre style=\"white-space:pre;overflow-x:auto;line-height:normal;font-family:Menlo,'DejaVu Sans Mono',consolas,'Courier New',monospace\"><span style=\"font-weight: bold\"> Optimizer params: </span><span style=\"color: #00af00; text-decoration-color: #00af00\">4,102</span> (16.03 KB)\n",
       "</pre>\n"
      ],
      "text/plain": [
       "\u001b[1m Optimizer params: \u001b[0m\u001b[38;5;34m4,102\u001b[0m (16.03 KB)\n"
      ]
     },
     "metadata": {},
     "output_type": "display_data"
    }
   ],
   "source": [
    "model.summary()"
   ]
  },
  {
   "cell_type": "code",
   "execution_count": 15,
   "id": "1ee27459",
   "metadata": {
    "execution": {
     "iopub.execute_input": "2024-04-27T16:36:30.449265Z",
     "iopub.status.busy": "2024-04-27T16:36:30.448762Z",
     "iopub.status.idle": "2024-04-27T16:36:30.453824Z",
     "shell.execute_reply": "2024-04-27T16:36:30.452489Z"
    },
    "papermill": {
     "duration": 0.030257,
     "end_time": "2024-04-27T16:36:30.456335",
     "exception": false,
     "start_time": "2024-04-27T16:36:30.426078",
     "status": "completed"
    },
    "tags": []
   },
   "outputs": [],
   "source": [
    "# fname = \"weights-DenseNet121-DR-Raw.weights.h5\"\n",
    "# model.save_weights(fname, overwrite = True)"
   ]
  },
  {
   "cell_type": "code",
   "execution_count": 16,
   "id": "405f87dc",
   "metadata": {
    "execution": {
     "iopub.execute_input": "2024-04-27T16:36:30.499658Z",
     "iopub.status.busy": "2024-04-27T16:36:30.499211Z",
     "iopub.status.idle": "2024-04-27T16:36:38.407596Z",
     "shell.execute_reply": "2024-04-27T16:36:38.406520Z"
    },
    "papermill": {
     "duration": 7.933356,
     "end_time": "2024-04-27T16:36:38.410252",
     "exception": false,
     "start_time": "2024-04-27T16:36:30.476896",
     "status": "completed"
    },
    "tags": []
   },
   "outputs": [
    {
     "name": "stdout",
     "output_type": "stream",
     "text": [
      "Found 16 images belonging to 2 classes.\n"
     ]
    },
    {
     "name": "stderr",
     "output_type": "stream",
     "text": [
      "/tmp/ipykernel_19/1476124348.py:7: DeprecationWarning: `np.math` is a deprecated alias for the standard library `math` module (Deprecated Numpy 1.25). Replace usages of `np.math` with `math`\n",
      "  test_steps_per_epoch = np.math.ceil(test_data_generator.samples / test_data_generator.batch_size)\n"
     ]
    },
    {
     "name": "stdout",
     "output_type": "stream",
     "text": [
      "\u001b[1m1/1\u001b[0m \u001b[32m━━━━━━━━━━━━━━━━━━━━\u001b[0m\u001b[37m\u001b[0m \u001b[1m6s\u001b[0m 6s/step\n"
     ]
    }
   ],
   "source": [
    "test_generator = ImageDataGenerator()\n",
    "test_data_generator = test_generator.flow_from_directory(\n",
    "    r'/kaggle/working/test', # Put your path here\n",
    "     target_size=(224, 224),\n",
    "    batch_size=32,\n",
    "    shuffle=False)\n",
    "test_steps_per_epoch = np.math.ceil(test_data_generator.samples / test_data_generator.batch_size)\n",
    "\n",
    "# predictions = model.predict_generator(test_data_generator, steps=test_steps_per_epoch)\n",
    "predictions = (model.predict(test_data_generator) > 0.5).astype(\"int32\")\n",
    "# Get most likely class\n",
    "predicted_classes = np.argmax(predictions, axis=1)"
   ]
  },
  {
   "cell_type": "code",
   "execution_count": 17,
   "id": "44d12374",
   "metadata": {
    "execution": {
     "iopub.execute_input": "2024-04-27T16:36:38.452679Z",
     "iopub.status.busy": "2024-04-27T16:36:38.452256Z",
     "iopub.status.idle": "2024-04-27T16:36:38.457514Z",
     "shell.execute_reply": "2024-04-27T16:36:38.456436Z"
    },
    "papermill": {
     "duration": 0.029265,
     "end_time": "2024-04-27T16:36:38.459796",
     "exception": false,
     "start_time": "2024-04-27T16:36:38.430531",
     "status": "completed"
    },
    "tags": []
   },
   "outputs": [],
   "source": [
    "true_classes = test_data_generator.classes\n",
    "class_labels = list(test_data_generator.class_indices.keys())  "
   ]
  },
  {
   "cell_type": "code",
   "execution_count": 18,
   "id": "0bc43802",
   "metadata": {
    "execution": {
     "iopub.execute_input": "2024-04-27T16:36:38.502257Z",
     "iopub.status.busy": "2024-04-27T16:36:38.501877Z",
     "iopub.status.idle": "2024-04-27T16:36:38.506901Z",
     "shell.execute_reply": "2024-04-27T16:36:38.505701Z"
    },
    "papermill": {
     "duration": 0.028588,
     "end_time": "2024-04-27T16:36:38.509043",
     "exception": false,
     "start_time": "2024-04-27T16:36:38.480455",
     "status": "completed"
    },
    "tags": []
   },
   "outputs": [],
   "source": [
    "import sklearn.metrics as metrics"
   ]
  },
  {
   "cell_type": "code",
   "execution_count": 19,
   "id": "52b1173a",
   "metadata": {
    "execution": {
     "iopub.execute_input": "2024-04-27T16:36:38.550702Z",
     "iopub.status.busy": "2024-04-27T16:36:38.550299Z",
     "iopub.status.idle": "2024-04-27T16:36:38.566499Z",
     "shell.execute_reply": "2024-04-27T16:36:38.565371Z"
    },
    "papermill": {
     "duration": 0.039848,
     "end_time": "2024-04-27T16:36:38.568815",
     "exception": false,
     "start_time": "2024-04-27T16:36:38.528967",
     "status": "completed"
    },
    "tags": []
   },
   "outputs": [
    {
     "name": "stdout",
     "output_type": "stream",
     "text": [
      "              precision    recall  f1-score   support\n",
      "\n",
      "          DR       1.00      0.38      0.55         8\n",
      "       NO DR       0.62      1.00      0.76         8\n",
      "\n",
      "    accuracy                           0.69        16\n",
      "   macro avg       0.81      0.69      0.65        16\n",
      "weighted avg       0.81      0.69      0.65        16\n",
      "\n"
     ]
    }
   ],
   "source": [
    "report = metrics.classification_report(true_classes, predicted_classes, target_names=class_labels)\n",
    "print(report)"
   ]
  }
 ],
 "metadata": {
  "kaggle": {
   "accelerator": "none",
   "dataSources": [
    {
     "datasetId": 4736857,
     "sourceId": 8035495,
     "sourceType": "datasetVersion"
    }
   ],
   "dockerImageVersionId": 30698,
   "isGpuEnabled": false,
   "isInternetEnabled": true,
   "language": "python",
   "sourceType": "notebook"
  },
  "kernelspec": {
   "display_name": "Python 3",
   "language": "python",
   "name": "python3"
  },
  "language_info": {
   "codemirror_mode": {
    "name": "ipython",
    "version": 3
   },
   "file_extension": ".py",
   "mimetype": "text/x-python",
   "name": "python",
   "nbconvert_exporter": "python",
   "pygments_lexer": "ipython3",
   "version": "3.10.13"
  },
  "papermill": {
   "default_parameters": {},
   "duration": 508.361275,
   "end_time": "2024-04-27T16:36:41.783182",
   "environment_variables": {},
   "exception": null,
   "input_path": "__notebook__.ipynb",
   "output_path": "__notebook__.ipynb",
   "parameters": {},
   "start_time": "2024-04-27T16:28:13.421907",
   "version": "2.5.0"
  }
 },
 "nbformat": 4,
 "nbformat_minor": 5
}
